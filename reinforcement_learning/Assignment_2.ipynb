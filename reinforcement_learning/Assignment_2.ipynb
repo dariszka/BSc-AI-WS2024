{
 "cells": [
  {
   "cell_type": "markdown",
   "metadata": {
    "deletable": false,
    "editable": false,
    "nbgrader": {
     "cell_type": "markdown",
     "checksum": "441d8853cf38a2167d73883094a7e5a8",
     "grade": false,
     "grade_id": "cell-2023dcd661a11bd7",
     "locked": true,
     "schema_version": 3,
     "solution": false,
     "task": false
    }
   },
   "source": [
    "# Assignment 2 - Dynamic Programming\n",
    "\n",
    "\n",
    "In the second assignment, you will implement four dynamic programming algorithms:\n",
    "\n",
    "- Implement DP Policy Evaluation (4 Points)\n",
    "- Implement DP Policy Improvement (4 Points)\n",
    "- Implement DP Policy Iteration (2 Points)\n",
    "- Implement DP Value Iteration (5 Points)\n",
    "- Answer some Theory Questions (8 Points)\n",
    "\n",
    "**Do not forget to restart the kernel and run all the code cells before saving and submitting the assignment!**\n",
    "\n",
    "\n",
    "\n",
    "    \n",
    "Before you start with this problem:\n",
    "- Study the corresponding slide deck(s) and consider re-watching the lecture recording(s).\n",
    "- Internalize the material until you feel confident you can work with or implement them yourself. Only then start working on this assignment; otherwise, you will waste a lot of time.\n",
    "\n",
    "---\n",
    "\n",
    "\n",
    "<div class=\"alert alert-warning\">\n",
    "\n",
    "**Due-Date:** see Moodle\n",
    "   \n",
    "**Constraints**: Operations on SciPy and NumPy arrays only.\n",
    "  \n",
    "**Automatic Grading:** \n",
    "\n",
    "- Replace the placeholders `# YOUR CODE HERE` `raise NotImplementedError()` / `YOUR ANSWER HERE` with your code / answers.\n",
    "- make sure to remove all `raise NotImplementedError()` statements\n",
    "- Put results in the corresponding variable; otherwise, we will not grade your solution (i.e., we assign 0 points).\n",
    "- Do not delete or add cells.\n",
    "    \n",
    "**Submission:** Submit the notebook via Moodle.\n",
    "- naming convention: `k<8 digits of student ID>.ipynb`\n",
    "- correct naming for student with id k01234567: k01234567.ipynb\n",
    "- some examples of incorrectly named submissions:\n",
    "    - k1234567.ipynb (7 digits)\n",
    "    - k01234567.pdf (converted to pdf)\n",
    "    - k01234567.html (converted to html)\n",
    "    - 01234567.ipynb (k is missing)\n",
    "    - k01324567.ipynb (incorrect student ID)\n",
    "    -  ...\n",
    "- notbooks that cannot be assign automatically will not be graded\n",
    "\n",
    "**Questions?** Post it into the forum!\n",
    "</div>\n",
    "\n",
    "## Running code cells\n",
    "\n",
    "To execute a code cell, use either `Ctrl-Enter`, `Shift-Enter`, or the GUI buttons above."
   ]
  },
  {
   "cell_type": "markdown",
   "metadata": {
    "deletable": false,
    "editable": false,
    "nbgrader": {
     "cell_type": "markdown",
     "checksum": "c2973de97dba6be54732868c83aff892",
     "grade": false,
     "grade_id": "cell-01ffeca03edb8c27",
     "locked": true,
     "schema_version": 3,
     "solution": false,
     "task": false
    }
   },
   "source": [
    "# The Fishlake Environment\n",
    "\n",
    "You should be familiar with the inner workings of the `Fishlake` Environment from the lecture slides. We will now use this environment to test dynamic programming prediction and control algorithms.\n",
    "\n",
    "If you `render` the environment, it will look something like this:\n",
    "```\n",
    "WWWM\n",
    "WRWF\n",
    "SWWW\n",
    "\n",
    "W ... W.ater (may be very streamy, and mess with the fish's movement)\n",
    "S ... S.tart (a state in which the fish may start an episode)\n",
    "R ... R.ock (this is essentially a hole in the map, it is not a state!)\n",
    "\n",
    "M ... M.aize (delicious fish food; entering this state from any other\n",
    "              state will give +1 reward, and end the episode)\n",
    "F ... F.isherman (evil; entering this state from any other state will\n",
    "                  give -1 reward, and end the episode)\n",
    "```"
   ]
  },
  {
   "cell_type": "markdown",
   "metadata": {
    "deletable": false,
    "editable": false,
    "nbgrader": {
     "cell_type": "markdown",
     "checksum": "62403f2d426f1f2a27429d0c13661ce4",
     "grade": false,
     "grade_id": "cell-09d85f97122cbbe1",
     "locked": true,
     "schema_version": 3,
     "solution": false,
     "task": false
    }
   },
   "source": [
    "<h2>Preliminaries</h2>\n",
    "\n",
    "What follows are the imports, the generation of the environment, and some helper functions. You have to run this cell first before starting to implement and run your algorithms."
   ]
  },
  {
   "cell_type": "code",
   "execution_count": 1,
   "metadata": {
    "deletable": false,
    "editable": false,
    "nbgrader": {
     "cell_type": "code",
     "checksum": "60bb559e03e2f8a7a5a36bdabf2b4a17",
     "grade": false,
     "grade_id": "cell-54541fa0c50d0536",
     "locked": true,
     "schema_version": 3,
     "solution": false,
     "task": false
    }
   },
   "outputs": [],
   "source": [
    "import matplotlib.pyplot as plt\n",
    "import numpy as np\n",
    "import gymnasium as gym\n",
    "import pprint\n",
    "import fishlake\n",
    "from fishlake import plot_policy, plot_value_function\n",
    "import testing\n",
    "from typing import Tuple\n",
    "\n",
    "pp = pprint.PrettyPrinter(depth=4)\n",
    "np.set_printoptions(precision=4, suppress=True, threshold=200)"
   ]
  },
  {
   "cell_type": "markdown",
   "metadata": {
    "deletable": false,
    "editable": false,
    "nbgrader": {
     "cell_type": "markdown",
     "checksum": "be48a3a6d948e8c7b689c52a875574f0",
     "grade": false,
     "grade_id": "cell-c2f3a2e8bc95daec",
     "locked": true,
     "schema_version": 3,
     "solution": false,
     "task": false
    }
   },
   "source": [
    "## Quickstart\n",
    "\n",
    "Here, we give you a few hints on how to use the openai gym, what the data formats look like, etc.\n",
    "\n",
    "### Loading the Environment and Moving Around"
   ]
  },
  {
   "cell_type": "code",
   "execution_count": 2,
   "metadata": {
    "deletable": false,
    "editable": false,
    "nbgrader": {
     "cell_type": "code",
     "checksum": "18ff670def48fee86f5475fd44f83741",
     "grade": false,
     "grade_id": "cell-b8bd71ef1ff619ec",
     "locked": true,
     "schema_version": 3,
     "solution": false,
     "task": false
    }
   },
   "outputs": [
    {
     "name": "stdout",
     "output_type": "stream",
     "text": [
      "start state 7\n",
      "\n",
      "WWWM\n",
      "WRWF\n",
      "\u001b[41mS\u001b[0mWWW\n"
     ]
    }
   ],
   "source": [
    "# load the environment\n",
    "lake_env = gym.make('FishlakeStreamy-v0')\n",
    "\n",
    "# reset it (set it back to its inital state (not strictly necessary here...))\n",
    "start_state = lake_env.reset()[0]\n",
    "\n",
    "# if there's only one 'S' tile in the lake description, than the agent will start in this state with probability = 1\n",
    "print('start state', start_state)\n",
    "\n",
    "# let's start by looking at our environment\n",
    "lake_env.render()"
   ]
  },
  {
   "cell_type": "code",
   "execution_count": 3,
   "metadata": {
    "deletable": false,
    "editable": false,
    "nbgrader": {
     "cell_type": "code",
     "checksum": "7f94bf9c0248f1fa95668cd1678da46d",
     "grade": false,
     "grade_id": "cell-54f77820d9e15c34",
     "locked": true,
     "schema_version": 3,
     "solution": false,
     "task": false
    }
   },
   "outputs": [
    {
     "name": "stdout",
     "output_type": "stream",
     "text": [
      "(8, 0, False, False, {'prob': 0.8})\n"
     ]
    }
   ],
   "source": [
    "# now let's try to move around:\n",
    "result = lake_env.step(2) # let's try to move right\n",
    "print(result)\n",
    "# the result will look something like this:\n",
    "# (8, 0, False, False, {'prob': 0.8})"
   ]
  },
  {
   "cell_type": "code",
   "execution_count": 4,
   "metadata": {
    "deletable": false,
    "editable": false,
    "nbgrader": {
     "cell_type": "code",
     "checksum": "281f99630e03e0e1562dd0b862bd5948",
     "grade": false,
     "grade_id": "cell-664ea76c4dfd9eb8",
     "locked": true,
     "schema_version": 3,
     "solution": false,
     "task": false
    }
   },
   "outputs": [
    {
     "name": "stdout",
     "output_type": "stream",
     "text": [
      "  (Right)\n",
      "WWWM\n",
      "WRWF\n",
      "S\u001b[41mW\u001b[0mWW\n"
     ]
    }
   ],
   "source": [
    "# (8, 0, ...           means that we are now in state 8, and we got 0 reward for our last step\n",
    "# ..., False, ...      means it is not a goal state\n",
    "# ..., False, ...      means that the episode was not truncated\n",
    "# ..., {'prob': 0.8})  denotes the transition probability from the previous state to the current state\n",
    "\n",
    "# we can have another look at our environment (chances are that the agent moved away from the inital square)\n",
    "lake_env.render()"
   ]
  },
  {
   "cell_type": "markdown",
   "metadata": {
    "deletable": false,
    "editable": false,
    "nbgrader": {
     "cell_type": "markdown",
     "checksum": "0cb0d3808fed618581922ff221bf9296",
     "grade": false,
     "grade_id": "cell-e1d35d600bfdc7b9",
     "locked": true,
     "schema_version": 3,
     "solution": false,
     "task": false
    }
   },
   "source": [
    "### Accessing Information about the Environment"
   ]
  },
  {
   "cell_type": "code",
   "execution_count": 5,
   "metadata": {
    "deletable": false,
    "editable": false,
    "nbgrader": {
     "cell_type": "code",
     "checksum": "60e4e97c447d2666d0a8c5b821e8d76f",
     "grade": false,
     "grade_id": "cell-67381625ac97de2b",
     "locked": true,
     "schema_version": 3,
     "solution": false,
     "task": false
    }
   },
   "outputs": [
    {
     "name": "stdout",
     "output_type": "stream",
     "text": [
      "Number of States:  11\n",
      "Number of Actions:  4\n"
     ]
    }
   ],
   "source": [
    "# we have perfect information about our environment (and you should make use of it in your code...):\n",
    "print(\"Number of States: \", lake_env.observation_space.n)  # we can access the number of states\n",
    "print(\"Number of Actions: \", lake_env.action_space.n)          # we can access the number of actions"
   ]
  },
  {
   "cell_type": "code",
   "execution_count": 6,
   "metadata": {
    "deletable": false,
    "editable": false,
    "nbgrader": {
     "cell_type": "code",
     "checksum": "3d4120cda301848f620ebe1e804d3e6f",
     "grade": false,
     "grade_id": "cell-3d0df003585b5d4b",
     "locked": true,
     "schema_version": 3,
     "solution": false,
     "task": false
    }
   },
   "outputs": [
    {
     "name": "stdout",
     "output_type": "stream",
     "text": [
      "\n",
      "For example, the dynamics for state 2 are defined via this dictionary:\n",
      "\n",
      "{0: [(0.8, 1, 0, False), (0.1, 2, 0, False), (0.1, 5, 0, False)],\n",
      " 1: [(0.8, 5, 0, False), (0.1, 1, 0, False), (0.1, 3, 1, True)],\n",
      " 2: [(0.8, 3, 1, True), (0.1, 2, 0, False), (0.1, 5, 0, False)],\n",
      " 3: [(0.8, 2, 0, False), (0.1, 1, 0, False), (0.1, 3, 1, True)]}\n",
      "\n",
      "Each entry in this dictionary corresponds to transition probabilities of one action (0-3). If the agent is in state 1 and chooses action 3, the dynamics are:\n",
      "\n",
      "[(0.8, 1, 0, False), (0.1, 0, 0, False), (0.1, 2, 0, False)]\n"
     ]
    }
   ],
   "source": [
    "# the dynamics are given as a dictionary containing dictionaries containing lists\n",
    "# you can print the full dynamics by uncommenting the next line (it's a lot of text...)\n",
    "# print(\"Dynamics: \", lake_env.P)\n",
    "state = 2\n",
    "print(f\"\\nFor example, the dynamics for state {state} are defined via this dictionary:\\n\")\n",
    "pp.pprint(lake_env.P[state])\n",
    "\n",
    "state = 1\n",
    "action = 3\n",
    "print(f\"\\nEach entry in this dictionary corresponds to transition probabilities of one action (0-3). If the agent is in state {state} and chooses action {action}, the dynamics are:\\n\")\n",
    "print(lake_env.P[state][action])"
   ]
  },
  {
   "cell_type": "code",
   "execution_count": 7,
   "metadata": {
    "deletable": false,
    "editable": false,
    "nbgrader": {
     "cell_type": "code",
     "checksum": "d41341eaa38961118e64c2e719526c19",
     "grade": false,
     "grade_id": "cell-aebf60411154778f",
     "locked": true,
     "schema_version": 3,
     "solution": false,
     "task": false
    }
   },
   "outputs": [
    {
     "name": "stdout",
     "output_type": "stream",
     "text": [
      "\n",
      "Let's iterate over the dynamics of state 2 when selecting action 2:\n",
      "(0.8, 3, 1) means transition probability:  0.8 next state: 3 reward: 1\n",
      "(0.1, 2, 0) means transition probability:  0.1 next state: 2 reward: 0\n",
      "(0.1, 5, 0) means transition probability:  0.1 next state: 5 reward: 0\n"
     ]
    }
   ],
   "source": [
    "state = 2\n",
    "action = 2\n",
    "print(f\"\\nLet's iterate over the dynamics of state {state} when selecting action {action}:\")\n",
    "for p_next_state, next_state, reward, _ in lake_env.P[state][action]:\n",
    "    print((p_next_state, next_state, reward), \"means transition probability: \", p_next_state, \"next state:\", next_state, \"reward:\", reward)"
   ]
  },
  {
   "cell_type": "markdown",
   "metadata": {
    "deletable": false,
    "editable": false,
    "nbgrader": {
     "cell_type": "markdown",
     "checksum": "1172d83cc3623c9ec40d1ba172b99d32",
     "grade": false,
     "grade_id": "cell-a8058c9071e776d4",
     "locked": true,
     "schema_version": 3,
     "solution": false,
     "task": false
    }
   },
   "source": [
    "### Storing the Policy and the Value Function\n",
    "We will use a 2 dimensional `np.array` to store policies.\n",
    "- the number of rows is given by the number of states\n",
    "- the number of columns is given by the number of actions"
   ]
  },
  {
   "cell_type": "code",
   "execution_count": 8,
   "metadata": {
    "deletable": false,
    "editable": false,
    "nbgrader": {
     "cell_type": "code",
     "checksum": "66eb668f39a0b0fa08a0853c5a0dcac8",
     "grade": false,
     "grade_id": "cell-eed09b81d80192ab",
     "locked": true,
     "schema_version": 3,
     "solution": false,
     "task": false
    }
   },
   "outputs": [
    {
     "name": "stdout",
     "output_type": "stream",
     "text": [
      "The 'take a random action'-policy:\n",
      "[[0.25 0.25 0.25 0.25]\n",
      " [0.25 0.25 0.25 0.25]\n",
      " [0.25 0.25 0.25 0.25]\n",
      " [0.25 0.25 0.25 0.25]\n",
      " [0.25 0.25 0.25 0.25]\n",
      " [0.25 0.25 0.25 0.25]\n",
      " [0.25 0.25 0.25 0.25]\n",
      " [0.25 0.25 0.25 0.25]\n",
      " [0.25 0.25 0.25 0.25]\n",
      " [0.25 0.25 0.25 0.25]\n",
      " [0.25 0.25 0.25 0.25]]\n",
      "\n",
      "Let's plot the random policy:\n"
     ]
    },
    {
     "data": {
      "image/png": "[encoded data removed]",
      "text/plain": [
       "<Figure size 640x480 with 1 Axes>"
      ]
     },
     "metadata": {},
     "output_type": "display_data"
    },
    {
     "name": "stdout",
     "output_type": "stream",
     "text": [
      "\n",
      "Note that the lenght of the arrows corresponds to the probability of selecting the action.\n"
     ]
    }
   ],
   "source": [
    "# let's create a random policy:\n",
    "random_policy = np.ones([\n",
    "    lake_env.observation_space.n,\n",
    "    lake_env.action_space.n\n",
    "])\n",
    "random_policy = random_policy / lake_env.action_space.n\n",
    "\n",
    "print(\"The 'take a random action'-policy:\")\n",
    "print(random_policy)\n",
    "\n",
    "print(\"\\nLet's plot the random policy:\")\n",
    "fig, ax = plt.subplots()\n",
    "plot_policy(ax, lake_env, random_policy)\n",
    "plt.show()\n",
    "print(\"\\nNote that the lenght of the arrows corresponds to the probability of selecting the action.\")"
   ]
  },
  {
   "cell_type": "markdown",
   "metadata": {
    "deletable": false,
    "editable": false,
    "nbgrader": {
     "cell_type": "markdown",
     "checksum": "3bc71d66a9780226b142828cf7ec5b28",
     "grade": false,
     "grade_id": "cell-c8cdfe54efdcf5b7",
     "locked": true,
     "schema_version": 3,
     "solution": false,
     "task": false
    }
   },
   "source": [
    "We will use a 1 dimensional `np.array` to store state-value functions.\n",
    "\n",
    "The length of this array corresponds to the number of states."
   ]
  },
  {
   "cell_type": "code",
   "execution_count": 9,
   "metadata": {
    "deletable": false,
    "editable": false,
    "nbgrader": {
     "cell_type": "code",
     "checksum": "98075763ff71d1571f87f553c6793559",
     "grade": false,
     "grade_id": "cell-d783e3384d046fda",
     "locked": true,
     "schema_version": 3,
     "solution": false,
     "task": false
    }
   },
   "outputs": [
    {
     "name": "stdout",
     "output_type": "stream",
     "text": [
      "\n",
      "A Value Function initialized with 0:\n",
      "\n",
      "[0. 0. 0. 0. 0. 0. 0. 0. 0. 0. 0.]\n",
      "\n",
      "Let's plot the all-zero value function:\n"
     ]
    },
    {
     "data": {
      "image/png": "[encoded data removed]",
      "text/plain": [
       "<Figure size 640x480 with 1 Axes>"
      ]
     },
     "metadata": {},
     "output_type": "display_data"
    }
   ],
   "source": [
    "V = np.zeros(lake_env.observation_space.n)\n",
    "\n",
    "print(\"\\nA Value Function initialized with 0:\\n\")\n",
    "print(V)\n",
    "\n",
    "print(\"\\nLet's plot the all-zero value function:\")\n",
    "fig, ax = plt.subplots()\n",
    "plot_value_function(ax, lake_env, V)\n",
    "plt.show()"
   ]
  },
  {
   "cell_type": "markdown",
   "metadata": {
    "deletable": false,
    "editable": false,
    "nbgrader": {
     "cell_type": "markdown",
     "checksum": "ddb9a11d1060da2fca69d744f445d645",
     "grade": false,
     "grade_id": "cell-80be7ac2af2ce34c",
     "locked": true,
     "schema_version": 3,
     "solution": false,
     "task": false
    }
   },
   "source": [
    "## (1) Policy Evaluation\n",
    "\n",
    "<div class=\"alert alert-warning\">\n",
    "    Implement the policy evaluation algorithm (4 points).\n",
    "</div>\n",
    "\n",
    "This is the first function you have to implement. We would suggest that you implement the in-place version of policy evaluation, as it is the simpler (and also the preferable) variant."
   ]
  },
  {
   "cell_type": "code",
   "execution_count": 10,
   "metadata": {
    "deletable": false,
    "nbgrader": {
     "cell_type": "code",
     "checksum": "bf2e8d43701986a62f165a02cb57b990",
     "grade": false,
     "grade_id": "cell-ec5323013de3b869",
     "locked": false,
     "schema_version": 3,
     "solution": true,
     "task": false
    }
   },
   "outputs": [],
   "source": [
    "def policy_evaluation(env: gym.Env, policy: np.ndarray, initial_V: np.ndarray, gamma: float, theta: float = 1e-8) -> np.ndarray:\n",
    "    \"\"\"\n",
    "    Policy Evaluation via Dynamic Programming\n",
    "    \n",
    "    Args:\n",
    "        env: the openai gym environment\n",
    "        policy: the policy to be evaluated\n",
    "        initial_V: the initial value function\n",
    "        gamma: the discount factor\n",
    "        theta: the stopping criterion (leave this alone)\n",
    "    \n",
    "    Returns:\n",
    "        the value function for a given policy\n",
    "    \"\"\"\n",
    "    V = initial_V.copy()\n",
    "    # YOUR CODE HERE\n",
    "    # raise NotImplementedError()\n",
    "    delta = float('inf')\n",
    "    while delta > theta:\n",
    "        V_k = V.copy()\n",
    "        for state, actions in enumerate(policy):\n",
    "            policy_sum = 0\n",
    "            for action, p_a in enumerate(actions):\n",
    "                q_pi_sum = 0\n",
    "                for p_next_state, next_state, reward, _ in env.P[state][action]:\n",
    "                    q_pi_sum+=p_next_state*(reward+gamma*V[next_state])\n",
    "                policy_sum += p_a*q_pi_sum\n",
    "                # summing over probability to take each action * summed state-action transition probabilities to new states for that action\n",
    "            V[state] = policy_sum\n",
    "\n",
    "        delta = np.max(np.abs(V_k - V))\n",
    "    return V"
   ]
  },
  {
   "cell_type": "code",
   "execution_count": 11,
   "metadata": {
    "deletable": false,
    "editable": false,
    "nbgrader": {
     "cell_type": "code",
     "checksum": "17ebc52a9207fffddf3c0316a6899819",
     "grade": true,
     "grade_id": "cell-3d878b238c881fd6",
     "locked": true,
     "points": 4,
     "schema_version": 3,
     "solution": false,
     "task": false
    }
   },
   "outputs": [],
   "source": [
    "# let's create a random policy:\n",
    "random_policy = np.ones([\n",
    "    lake_env.observation_space.n,\n",
    "    lake_env.action_space.n\n",
    "])\n",
    "random_policy = random_policy / lake_env.action_space.n\n",
    "\n",
    "# we will now evaluate the random policy, and obtain the corresponding value function\n",
    "V_0 = np.zeros(lake_env.observation_space.n)\n",
    "V_0 = policy_evaluation(lake_env, random_policy, V_0, gamma=0.9)\n",
    "\n",
    "# at least one value should be different from the intial value, otherwise we assume it's not implemented/ incorrect ...\n",
    "assert testing.is_type(V_0, np.ndarray)\n",
    "assert testing.numpy_array_has_shape(V_0, (lake_env.observation_space.n,))\n",
    "assert np.any(V_0 != 0), \"your implementation of policy_evaluation returns the intial values without modifications\""
   ]
  },
  {
   "cell_type": "markdown",
   "metadata": {
    "deletable": false,
    "editable": false,
    "nbgrader": {
     "cell_type": "markdown",
     "checksum": "3d8fe3ff1cd9614dd4033204e9d8cbd5",
     "grade": false,
     "grade_id": "cell-a142a65f5cb8579a",
     "locked": true,
     "schema_version": 3,
     "solution": false,
     "task": false
    }
   },
   "source": [
    "### Run DP Policy Evaluation \n",
    "Okay, let's now run the algorithm on the random policy in the fishlake environment."
   ]
  },
  {
   "cell_type": "code",
   "execution_count": 12,
   "metadata": {
    "deletable": false,
    "editable": false,
    "nbgrader": {
     "cell_type": "code",
     "checksum": "c9959aad3568edde814f7c6d9e27d604",
     "grade": false,
     "grade_id": "cell-323da980d97a6343",
     "locked": true,
     "schema_version": 3,
     "solution": false,
     "task": false
    }
   },
   "outputs": [
    {
     "data": {
      "image/png": "[encoded data removed]",
      "text/plain": [
       "<Figure size 640x480 with 2 Axes>"
      ]
     },
     "metadata": {},
     "output_type": "display_data"
    }
   ],
   "source": [
    "V = policy_evaluation(lake_env, random_policy, V_0, gamma=0.9)\n",
    "\n",
    "fig, axes = plt.subplots(ncols=2)\n",
    "plot_policy(axes[0], lake_env, random_policy)\n",
    "\n",
    "plot_value_function(axes[1], lake_env, V)\n",
    "axes[0].set_title('$\\pi(a | s)$')\n",
    "axes[1].set_title('$v_{\\pi}(s)$')\n",
    "plt.show()"
   ]
  },
  {
   "cell_type": "markdown",
   "metadata": {
    "deletable": false,
    "editable": false,
    "nbgrader": {
     "cell_type": "markdown",
     "checksum": "84bf1c98ad3a18839732941627f28901",
     "grade": false,
     "grade_id": "cell-078dfb22e764e473",
     "locked": true,
     "schema_version": 3,
     "solution": false,
     "task": false
    }
   },
   "source": [
    "## (2) Policy Improvement\n",
    "\n",
    "<div class=\"alert alert-warning\">\n",
    "    Implement a one step lookahead and the policy improvement agorithm (4 points).\n",
    "</div>\n",
    "\n",
    "Here you have to implement one step lookahead and the policy improvement algorithm. We will use policy improvement  later on within the policy iteration algorithm to compute the optimal policy.\n",
    "\n",
    "Onset step lookahead computes the state-action values for a given state using the current state values and the dynamics. This is usefull in several dynamic programming algorithms."
   ]
  },
  {
   "cell_type": "code",
   "execution_count": 13,
   "metadata": {
    "deletable": false,
    "nbgrader": {
     "cell_type": "code",
     "checksum": "15fc8b84de7d1a9c3b82cbcf147dd77d",
     "grade": false,
     "grade_id": "cell-ff0eb610bad7090b",
     "locked": false,
     "schema_version": 3,
     "solution": true,
     "task": false
    }
   },
   "outputs": [],
   "source": [
    "def one_step_lookahead(env: gym.Env, state: int, V: np.ndarray, gamma: float) -> np.ndarray:\n",
    "    \"\"\"   \n",
    "    \n",
    "    Compute the action value q(s = state, a) for all actions a.\n",
    "    \n",
    "    Args:\n",
    "        env: the openai gym environment\n",
    "        state: index of the state in environment to compute the action vales for\n",
    "        V: current value function\n",
    "        gamma: discount factor\n",
    "    \n",
    "    Returns:\n",
    "        a 1D numpy array containing the action values for state s; positions in the array correspond to action indices\n",
    "    \"\"\"\n",
    "    A = np.zeros(env.action_space.n)\n",
    "    # YOUR CODE HERE\n",
    "    # raise NotImplementedError()\n",
    "\n",
    "    q_pi= np.zeros(len(A))\n",
    "    for action in range(len(A)):\n",
    "        for p_next_state, next_state, reward, _ in env.P[state][action]:\n",
    "            A[action]+=p_next_state*(reward+gamma*V[next_state]) # summed up q for every action\n",
    "\n",
    "    return A"
   ]
  },
  {
   "cell_type": "code",
   "execution_count": 14,
   "metadata": {
    "deletable": false,
    "editable": false,
    "nbgrader": {
     "cell_type": "code",
     "checksum": "e0c146881abbdb4d3dcb3118bfa46913",
     "grade": true,
     "grade_id": "cell-fe293a96690c748c",
     "locked": true,
     "points": 2,
     "schema_version": 3,
     "solution": false,
     "task": false
    }
   },
   "outputs": [],
   "source": [
    "gamma = 0.9\n",
    "action_values = one_step_lookahead(lake_env, 0, np.ones(lake_env.observation_space.n), gamma)\n",
    "\n",
    "assert testing.is_type(action_values, np.ndarray)\n",
    "assert testing.numpy_array_has_shape(action_values, (lake_env.action_space.n,))\n",
    "assert not all(action_values == 0), \"initial values of action-values should be different from the initialization\""
   ]
  },
  {
   "cell_type": "markdown",
   "metadata": {
    "deletable": false,
    "editable": false,
    "nbgrader": {
     "cell_type": "markdown",
     "checksum": "0905fcac2294464c6f7761aec6472b38",
     "grade": false,
     "grade_id": "cell-f864e8cfc8b53a4b",
     "locked": true,
     "schema_version": 3,
     "solution": false,
     "task": false
    }
   },
   "source": [
    "Use the one_step_lookahead method to implement policy improvement.\n",
    "\n",
    "**Important:** use `np.argmax` to select the action that has the highest value (see, Eq. 4.9, Chapter 4, p.79, in the RL Book.)"
   ]
  },
  {
   "cell_type": "code",
   "execution_count": 15,
   "metadata": {
    "deletable": false,
    "nbgrader": {
     "cell_type": "code",
     "checksum": "a8e4d782a93a610d0d3d460022a2c602",
     "grade": false,
     "grade_id": "cell-6c510968cfc43e7a",
     "locked": false,
     "schema_version": 3,
     "solution": true,
     "task": false
    }
   },
   "outputs": [],
   "source": [
    "def policy_improvement(env: gym.Env, old_policy: np.ndarray, V: np.ndarray, gamma: float) -> Tuple[np.ndarray, bool]:\n",
    "    \"\"\"\n",
    "    Policy Improvement\n",
    "    \n",
    "    Args:\n",
    "        env: the openai gym environment\n",
    "        old_policy: the policy to be evaluated\n",
    "        V: the value function of the policy\n",
    "        gamma: discount factor\n",
    "    \n",
    "    Returns:\n",
    "        a tuple consisting of the improved policy (a numpy array)\n",
    "        and a boolean, indicating it the policy is stable (i.e. was not changed)\n",
    "    \"\"\"\n",
    "    improved_policy = np.zeros_like(old_policy)\n",
    "    policy_stable = True\n",
    "\n",
    "    # use one_step_lookahead here to find the new action\n",
    "    # YOUR CODE HERE\n",
    "    # raise NotImplementedError()\n",
    "    for state, actions in enumerate(improved_policy):\n",
    "        A = one_step_lookahead(env, state, V, gamma)\n",
    "        improved_policy[state][np.argmax(A)] = 1\n",
    "\n",
    "    policy_stable = bool(np.isclose(improved_policy, old_policy).all())\n",
    "        \n",
    "    return improved_policy, policy_stable"
   ]
  },
  {
   "cell_type": "code",
   "execution_count": 16,
   "metadata": {
    "deletable": false,
    "editable": false,
    "nbgrader": {
     "cell_type": "code",
     "checksum": "26cc1e6e79bc427b40b70a4f6bd20f5c",
     "grade": true,
     "grade_id": "cell-849e7cd68b563661",
     "locked": true,
     "points": 2,
     "schema_version": 3,
     "solution": false,
     "task": false
    }
   },
   "outputs": [],
   "source": [
    "gamma = 0.9\n",
    "\n",
    "# again, we start with a random policy\n",
    "policy_0 = np.ones([\n",
    "    lake_env.observation_space.n,\n",
    "    lake_env.action_space.n\n",
    "])\n",
    "policy_0 = policy_0 / lake_env.action_space.n\n",
    "\n",
    "# we will then evaluate the random policy and obtain its associated value function\n",
    "V_0 = policy_evaluation(lake_env, policy_0, np.zeros(lake_env.observation_space.n), gamma=gamma)\n",
    "\n",
    "# do one step of policy improvement\n",
    "policy_1, policy_stable = policy_improvement(lake_env, policy_0, V_0, gamma=gamma)\n",
    "\n",
    "# check data type of result\n",
    "assert testing.is_type(policy_stable, bool)\n",
    "assert testing.is_type(policy_1, np.ndarray)\n",
    "\n",
    "# check if valid policy\n",
    "assert testing.numpy_array_has_shape(policy_1, policy_0.shape)\n",
    "assert np.isclose(policy_1.sum(axis=1), 1).all(), 'Probabilities of all actions must sum to one.'\n",
    "\n",
    "# compute values for new policy\n",
    "V_1 = policy_evaluation(lake_env, policy_1, V_0, gamma=gamma)"
   ]
  },
  {
   "cell_type": "markdown",
   "metadata": {
    "deletable": false,
    "editable": false,
    "nbgrader": {
     "cell_type": "markdown",
     "checksum": "8809c83fe19481745f72da686f44afb4",
     "grade": false,
     "grade_id": "cell-d09e588437648cc4",
     "locked": true,
     "schema_version": 3,
     "solution": false,
     "task": false
    }
   },
   "source": [
    "### Run Policy Improvement"
   ]
  },
  {
   "cell_type": "code",
   "execution_count": 17,
   "metadata": {
    "deletable": false,
    "editable": false,
    "nbgrader": {
     "cell_type": "code",
     "checksum": "0a7579b0148cb25845d171e143cf644e",
     "grade": false,
     "grade_id": "cell-50279d0e5dc29fab",
     "locked": true,
     "schema_version": 3,
     "solution": false,
     "task": false
    }
   },
   "outputs": [
    {
     "data": {
      "image/png": "[encoded data removed]",
      "text/plain": [
       "<Figure size 1000x600 with 4 Axes>"
      ]
     },
     "metadata": {},
     "output_type": "display_data"
    }
   ],
   "source": [
    "fig, axes = plt.subplots(nrows=2, ncols=2, figsize=(10, 6))\n",
    "fig.suptitle(f'policy_stable = {policy_stable}')\n",
    "axes[0, 0].set_title('$\\pi_0(a | s)$')\n",
    "axes[0, 1].set_title('$v_{\\pi_0}(s)$')\n",
    "axes[1, 0].set_title('$\\pi_1(a | s)$')\n",
    "axes[1, 1].set_title('$v_{\\pi_1}(s)$')\n",
    "\n",
    "plot_policy(axes[0, 0], lake_env, policy_0)\n",
    "plot_value_function(axes[0, 1], lake_env, V_0)\n",
    "plot_policy(axes[1, 0], lake_env, policy_1)\n",
    "plot_value_function(axes[1, 1], lake_env, V_1)\n",
    "plt.tight_layout()\n",
    "plt.show()"
   ]
  },
  {
   "cell_type": "markdown",
   "metadata": {
    "deletable": false,
    "editable": false,
    "nbgrader": {
     "cell_type": "markdown",
     "checksum": "ad8aa8ad83eb3f87c0fe94e5f7ea625b",
     "grade": false,
     "grade_id": "cell-acc23dc383db4c8e",
     "locked": true,
     "schema_version": 3,
     "solution": false,
     "task": false
    }
   },
   "source": [
    "## (3) Policy Iteration\n",
    "\n",
    "<div class=\"alert alert-warning\">\n",
    "    Implement the Policy Iteration Algorithm (2 points).\n",
    "</div>\n",
    "\n",
    "This one should be easy now -- if you have correctly implemented the evaluation and the improvement algorithms above..."
   ]
  },
  {
   "cell_type": "code",
   "execution_count": 18,
   "metadata": {
    "deletable": false,
    "nbgrader": {
     "cell_type": "code",
     "checksum": "394242d03dbcc4b9e9e1da6f5d5f6a1b",
     "grade": false,
     "grade_id": "cell-9ce2abacd2d0701a",
     "locked": false,
     "schema_version": 3,
     "solution": true,
     "task": false
    }
   },
   "outputs": [],
   "source": [
    "def policy_iteration(env: gym.Env, policy: np.ndarray, gamma: float) -> Tuple[np.ndarray, np.ndarray]:\n",
    "    \"\"\"\n",
    "    Policy Iteration\n",
    "    \n",
    "    Args:\n",
    "        env: the openai gym environment\n",
    "        policy: the policy to be evaluated\n",
    "        gamma: the discount factor\n",
    "    \n",
    "    Returns:\n",
    "        a tuple consisting of\n",
    "        the optimal policy\n",
    "        and the respective value function\n",
    "    \"\"\"\n",
    "    \n",
    "    V = np.zeros(env.observation_space.n)\n",
    "    policy = np.copy(policy)\n",
    "    \n",
    "    # use policy_evaluation and policy_improvement here\n",
    "    # YOUR CODE HERE\n",
    "    # raise NotImplementedError()\n",
    "    \n",
    "    while True:\n",
    "        a_old = policy # not doing it state by state, since policy stores all states       \n",
    "        V = policy_evaluation(env, policy, V, gamma)\n",
    "        greedy_policy, policy_stable = policy_improvement(env, policy, V, gamma)\n",
    "        policy = greedy_policy\n",
    "    \n",
    "        if policy_stable==True:\n",
    "            V = policy_evaluation(env, policy, V, gamma)\n",
    "            break\n",
    "\n",
    "    return policy, V\n",
    "    "
   ]
  },
  {
   "cell_type": "code",
   "execution_count": 19,
   "metadata": {
    "deletable": false,
    "editable": false,
    "nbgrader": {
     "cell_type": "code",
     "checksum": "62fe640a949a90b1c0cb6405d3c350e3",
     "grade": true,
     "grade_id": "cell-3066c89e4775b6f9",
     "locked": true,
     "points": 2,
     "schema_version": 3,
     "solution": false,
     "task": false
    }
   },
   "outputs": [],
   "source": [
    "gamma = 0.9\n",
    "\n",
    "# again, we start with a random policy\n",
    "policy_0 = np.ones([\n",
    "    lake_env.observation_space.n,\n",
    "    lake_env.action_space.n\n",
    "])\n",
    "policy_0 = policy_0 / lake_env.action_space.n\n",
    "\n",
    "# do policy iteration until convergence\n",
    "policy_optimal, V_optimal = policy_iteration(lake_env, policy_0, gamma)\n",
    "\n",
    "# check data type of result\n",
    "assert testing.is_type(policy_optimal, np.ndarray)\n",
    "assert testing.is_type(V_optimal, np.ndarray)\n",
    "\n",
    "# check if valid policy and value array\n",
    "assert testing.numpy_array_has_shape(policy_optimal, policy_0.shape)\n",
    "assert testing.numpy_array_has_shape(V_optimal, (lake_env.observation_space.n,))\n",
    "\n",
    "# some more checks ...\n",
    "assert np.isclose(policy_1.sum(axis=1), 1).all(), 'Probabilities of all actions must sum to one.'\n",
    "assert not np.isclose(policy_optimal, policy_0).all(), \"Initial policy not updated.\"\n",
    "assert not all(V_optimal == 0), \"Initial values not updated.\""
   ]
  },
  {
   "cell_type": "markdown",
   "metadata": {
    "deletable": false,
    "editable": false,
    "nbgrader": {
     "cell_type": "markdown",
     "checksum": "3a8a1ddc7d1866747407301e250eda4b",
     "grade": false,
     "grade_id": "cell-ad3b37449e52a811",
     "locked": true,
     "schema_version": 3,
     "solution": false,
     "task": false
    }
   },
   "source": [
    "### Run DP Policy Iteration\n",
    "\n",
    "Next, let's improve a random policy and compute an optimal policy by using policy iteration."
   ]
  },
  {
   "cell_type": "code",
   "execution_count": 20,
   "metadata": {
    "deletable": false,
    "editable": false,
    "nbgrader": {
     "cell_type": "code",
     "checksum": "bbbd817b484cced65b79c9ba2c021f64",
     "grade": false,
     "grade_id": "cell-144f13b89bc936d8",
     "locked": true,
     "schema_version": 3,
     "solution": false,
     "task": false
    }
   },
   "outputs": [
    {
     "data": {
      "image/png": "[encoded data removed]",
      "text/plain": [
       "<Figure size 640x480 with 2 Axes>"
      ]
     },
     "metadata": {},
     "output_type": "display_data"
    }
   ],
   "source": [
    "# let's create a random policy\n",
    "policy = np.ones([lake_env.observation_space.n, lake_env.action_space.n]) / lake_env.action_space.n\n",
    "\n",
    "# and now let's compute an optimal policy via the policy iteration algorithm\n",
    "policy, value_function = policy_iteration(lake_env, policy, gamma=0.9)\n",
    "\n",
    "fig, axes = plt.subplots(ncols=2)\n",
    "plot_policy(axes[0], lake_env, policy)\n",
    "plot_value_function(axes[1], lake_env, value_function)\n",
    "plt.show()"
   ]
  },
  {
   "cell_type": "markdown",
   "metadata": {
    "deletable": false,
    "editable": false,
    "nbgrader": {
     "cell_type": "markdown",
     "checksum": "b05e08a1de8fa2bf8a35e3687565af3f",
     "grade": false,
     "grade_id": "cell-146782b273869d78",
     "locked": true,
     "schema_version": 3,
     "solution": false,
     "task": false
    }
   },
   "source": [
    "## (4) Value Iteration\n",
    "\n",
    "<div class=\"alert alert-warning\">\n",
    "    Implement the Value Iteration Algorithm (5 points).\n",
    "</div>\n",
    "\n",
    "Hint: use the `one_step_lookahead` function."
   ]
  },
  {
   "cell_type": "code",
   "execution_count": 21,
   "metadata": {
    "deletable": false,
    "nbgrader": {
     "cell_type": "code",
     "checksum": "6987fdc9b2764c4b0c8f1d71029afe2e",
     "grade": false,
     "grade_id": "cell-dc066fb1d9996e3e",
     "locked": false,
     "schema_version": 3,
     "solution": true,
     "task": false
    }
   },
   "outputs": [],
   "source": [
    "def value_iteration(env: gym.Env, gamma: float, theta: float = 1e-8) -> Tuple[np.ndarray, np.ndarray]:\n",
    "    \"\"\"\n",
    "    Value Iteration\n",
    "    \n",
    "    Args:\n",
    "        env: the openai gym environment\n",
    "        gamma: discount factor gamma\n",
    "        theta: the stopping criterion\n",
    "    \n",
    "    Returns:\n",
    "        a tuple consisting of\n",
    "        the optimal policy\n",
    "        and the respective value function\n",
    "    \"\"\"\n",
    "    V = np.zeros(env.observation_space.n)\n",
    "    policy = np.zeros([env.observation_space.n, env.action_space.n])\n",
    "    \n",
    "    # YOUR CODE HERE\n",
    "    # raise NotImplementedError()\n",
    "\n",
    "    while True:\n",
    "        delta = 0\n",
    "        for state, value in enumerate(V):\n",
    "            A = one_step_lookahead(env, state, V, gamma)\n",
    "            V[state] = np.max(A)\n",
    "                              \n",
    "            delta = max(delta, abs(value-V[state]))\n",
    "                        \n",
    "        if delta < theta:\n",
    "            policy,_ = policy_improvement(env, policy, V, gamma)            \n",
    "            break\n",
    "                        \n",
    "    return policy, V"
   ]
  },
  {
   "cell_type": "code",
   "execution_count": 22,
   "metadata": {
    "deletable": false,
    "editable": false,
    "nbgrader": {
     "cell_type": "code",
     "checksum": "32222ccb6fc900ac35dc39cc2e39de9e",
     "grade": true,
     "grade_id": "cell-1ce649af690fcb46",
     "locked": true,
     "points": 5,
     "schema_version": 3,
     "solution": false,
     "task": false
    }
   },
   "outputs": [],
   "source": [
    "gamma = 0.9\n",
    "\n",
    "policy_optimal, V_optimal = value_iteration(lake_env, gamma)\n",
    "\n",
    "# check the results data type\n",
    "assert testing.is_type(policy_optimal, np.ndarray)\n",
    "assert testing.is_type(V_optimal, np.ndarray)\n",
    "\n",
    "# check if valid policy and value array\n",
    "assert testing.numpy_array_has_shape(policy_optimal, (lake_env.observation_space.n, lake_env.action_space.n))\n",
    "assert testing.numpy_array_has_shape(V_optimal, (lake_env.observation_space.n,))\n",
    "\n",
    "# some more checks ...\n",
    "assert not all(V_optimal == 0), \"Initial values not updated.\"\n",
    "assert (policy_optimal.sum(axis=1) == 1).all(), 'Probabilities of all actions must sum to one.'"
   ]
  },
  {
   "cell_type": "markdown",
   "metadata": {
    "deletable": false,
    "editable": false,
    "nbgrader": {
     "cell_type": "markdown",
     "checksum": "5aade0b8ee7e4937585dcca40898e87f",
     "grade": false,
     "grade_id": "cell-f0de50be58a0ab5e",
     "locked": true,
     "schema_version": 3,
     "solution": false,
     "task": false
    },
    "tags": []
   },
   "source": [
    "### Run DP Value Iteration\n",
    "\n",
    "Finally, let's compute the optimal policy by using value iteration. Obviously the result should be very similar to the policy interation algorithm."
   ]
  },
  {
   "cell_type": "code",
   "execution_count": 23,
   "metadata": {
    "deletable": false,
    "editable": false,
    "nbgrader": {
     "cell_type": "code",
     "checksum": "7f29494cc7678df658f5c98a1bb61cf1",
     "grade": false,
     "grade_id": "cell-5d0028ed65493ae2",
     "locked": true,
     "schema_version": 3,
     "solution": false,
     "task": false
    }
   },
   "outputs": [
    {
     "data": {
      "image/png": "[encoded data removed]",
      "text/plain": [
       "<Figure size 640x480 with 2 Axes>"
      ]
     },
     "metadata": {},
     "output_type": "display_data"
    }
   ],
   "source": [
    "# let's redo this with value iteration...\n",
    "opt_policy, opt_value_function = value_iteration(lake_env, gamma=0.9)\n",
    "\n",
    "fig, axes = plt.subplots(ncols=2)\n",
    "plot_policy(axes[0], lake_env, opt_policy)\n",
    "plot_value_function(axes[1], lake_env, opt_value_function)\n",
    "plt.show()"
   ]
  },
  {
   "cell_type": "markdown",
   "metadata": {
    "deletable": false,
    "editable": false,
    "nbgrader": {
     "cell_type": "markdown",
     "checksum": "50e0bc776d439f4e0c08566e9b5e1094",
     "grade": false,
     "grade_id": "cell-921f189c436542dd",
     "locked": true,
     "schema_version": 3,
     "solution": false,
     "task": false
    }
   },
   "source": [
    "## (5) Comprehension Exercise"
   ]
  },
  {
   "cell_type": "markdown",
   "metadata": {
    "deletable": false,
    "editable": false,
    "nbgrader": {
     "cell_type": "markdown",
     "checksum": "1b660fd164787f07e4e420ea38d4511d",
     "grade": false,
     "grade_id": "cell-9f730947216561e4",
     "locked": true,
     "schema_version": 3,
     "solution": false,
     "task": false
    }
   },
   "source": [
    "#### 5.1 True/False Questions\n",
    "<div class=\"alert alert-warning\">\n",
    "    Answer the following True/False questions by storing your answer into the corresponding variable.\n",
    "</div>\n",
    "\n",
    "Specify whether the following statements are True or False **for MDPs in general** (1 point each):\n",
    "1. There is exactly one optimal policy.\n",
    "2. $q_*(s, a)$ gives the value of taking the optimal action $a$ in state $s$ and following the optimal policy thereafter.\n",
    "3. Adding a constant value to all rewards will not change the optimal policy in continuous tasks with $\\gamma < 1.0$.\n",
    "4. Adding a constant value to all rewards will not change the optimal policy in episodic tasks with $\\gamma = 1.0$."
   ]
  },
  {
   "cell_type": "code",
   "execution_count": 24,
   "metadata": {
    "deletable": false,
    "nbgrader": {
     "cell_type": "code",
     "checksum": "87f198aa5c5a14f39c2b4ee77109da73",
     "grade": false,
     "grade_id": "cell-cb63c46ad1591ee3",
     "locked": false,
     "schema_version": 3,
     "solution": true,
     "task": false
    }
   },
   "outputs": [],
   "source": [
    "# store True or False for the corresponding question\n",
    "results = {\n",
    "    '1': False,\n",
    "    '2': True,\n",
    "    '3': True,\n",
    "    '4': False\n",
    "}\n",
    "# YOUR CODE HERE\n",
    "# raise NotImplementedError()"
   ]
  },
  {
   "cell_type": "code",
   "execution_count": 25,
   "metadata": {
    "deletable": false,
    "editable": false,
    "nbgrader": {
     "cell_type": "code",
     "checksum": "57992b6b0e35d9138e26e1519b66c8b2",
     "grade": true,
     "grade_id": "cell-634ae935571ad8d2",
     "locked": true,
     "points": 1,
     "schema_version": 3,
     "solution": false,
     "task": false
    }
   },
   "outputs": [],
   "source": [
    "assert testing.is_type(results['1'], bool)"
   ]
  },
  {
   "cell_type": "code",
   "execution_count": 26,
   "metadata": {
    "deletable": false,
    "editable": false,
    "nbgrader": {
     "cell_type": "code",
     "checksum": "e22f4d7e0f15bd0c6ee39a94e0f2ed3c",
     "grade": true,
     "grade_id": "cell-35d31fae327a411d",
     "locked": true,
     "points": 1,
     "schema_version": 3,
     "solution": false,
     "task": false
    }
   },
   "outputs": [],
   "source": [
    "assert testing.is_type(results['2'], bool)"
   ]
  },
  {
   "cell_type": "code",
   "execution_count": 27,
   "metadata": {
    "deletable": false,
    "editable": false,
    "nbgrader": {
     "cell_type": "code",
     "checksum": "fb8b2db4150c40f75ece9afee00b52d0",
     "grade": true,
     "grade_id": "cell-600b88bf77d7b8a2",
     "locked": true,
     "points": 1,
     "schema_version": 3,
     "solution": false,
     "task": false
    }
   },
   "outputs": [],
   "source": [
    "assert testing.is_type(results['3'], bool)"
   ]
  },
  {
   "cell_type": "code",
   "execution_count": 28,
   "metadata": {
    "deletable": false,
    "editable": false,
    "nbgrader": {
     "cell_type": "code",
     "checksum": "169b34420e529a282242ff3bbf7a52f5",
     "grade": true,
     "grade_id": "cell-a94d186941bf0606",
     "locked": true,
     "points": 1,
     "schema_version": 3,
     "solution": false,
     "task": false
    }
   },
   "outputs": [],
   "source": [
    "assert testing.is_type(results['4'], bool)"
   ]
  },
  {
   "cell_type": "markdown",
   "metadata": {
    "deletable": false,
    "editable": false,
    "nbgrader": {
     "cell_type": "markdown",
     "checksum": "93b3a5b49800a759e7b0394e026a3b47",
     "grade": false,
     "grade_id": "cell-5da9f33f8e7ac911",
     "locked": true,
     "schema_version": 3,
     "solution": false,
     "task": false
    }
   },
   "source": [
    "<div class=\"alert alert-warning\">\n",
    "    Give a **short answer** for the following questions/ tasks (2 points each).\n",
    "</div>\n",
    "\n",
    "#### 5.2. Maze Running\n",
    "\n",
    "Imagine that you are designing a robot to run a maze. You decide to give it a reward of +1 for escaping from the maze and a reward of zero at all other times. The task seems to break down naturally into episodes — the successive runs through the maze — so you decide to treat it as an episodic task, where the goal is to maximize expected total undiscounted reward ($\\gamma = 1$). After running the learning agent for a while, you find that it is showing no improvement in escaping from the maze. \n",
    "\n",
    "What is going wrong? Have you effectively communicated to the agent what you want it to achieve? Give a short and concise answer (two sentences max)!\n",
    "\n",
    "(Source: Sutton and Barto, \"Reinforcement Learning: An Introduction\")"
   ]
  },
  {
   "cell_type": "markdown",
   "metadata": {
    "deletable": false,
    "nbgrader": {
     "cell_type": "markdown",
     "checksum": "7d3a7db47122ba12deefa147bb6bd47a",
     "grade": true,
     "grade_id": "cell-c15f02d0f8eebcf5",
     "locked": false,
     "points": 2,
     "schema_version": 3,
     "solution": true,
     "task": false
    }
   },
   "source": [
    "After certain amount of runs agent will have found the exit at least once, updated that sequence of moves as it's optimal policy and then used it onwards, since there is nothing to improve - it has achieved the max reward it could ever get. Reward signal is too sparse (only when goal reached, not how goal reached), there is no penalty (=negative reward) for amount of steps taken, so agent doesn't know it should have improved something."
   ]
  },
  {
   "cell_type": "markdown",
   "metadata": {
    "deletable": false,
    "editable": false,
    "nbgrader": {
     "cell_type": "markdown",
     "checksum": "596c0bd230c8d57dedb557ef072a6de6",
     "grade": false,
     "grade_id": "cell-c200a7bf89dce880",
     "locked": true,
     "schema_version": 3,
     "solution": false,
     "task": false
    }
   },
   "source": [
    "#### 5.3 Alternative Policy Evaluation Update Rule\n",
    "\n",
    "Give an expression analogous to the policy evaluation update rule $$v_{k+1}(s) := \\sum_{a} \\pi(a \\mid s) \\sum_{s', r} p(s', r \\mid s,a) \\big [ r + \\gamma v_k(s') \\big ]$$ but for action-value estimates $q_k(s, a)$ instead of state-value estimates $v_k(s)$. Use previous action-value estimates $q_{k}(s, a)$ instead of state-value estimates $v_{k}(s)$ to compute the updated value $q_{k+1}(s, a)$\n",
    "\n",
    "**Hint:** Use $\\LaTeX$ math to write down the expression.\n",
    "\n",
    "$q_{k+1}(s, a) = \\dots$"
   ]
  },
  {
   "cell_type": "markdown",
   "metadata": {
    "deletable": false,
    "nbgrader": {
     "cell_type": "markdown",
     "checksum": "8ff284feabc39145efd6dd6311db15ef",
     "grade": true,
     "grade_id": "cell-dfd24fa1e867d607",
     "locked": false,
     "points": 2,
     "schema_version": 3,
     "solution": true,
     "task": false
    }
   },
   "source": [
    "$$ q_{k+1}(s,a) = \\sum_{s', r} p(s', r \\mid s,a) \\big [ r + \\gamma   v_{k}(s') \\big ] $$\n",
    "\n",
    "We know $v_k (s') = \\sum_{a} \\pi(a \\mid s') \\sum_{s', r} q_{k-1}(s', a) = \\sum_{a'} \\pi(a' \\mid s') \\sum_{s', r} q_{k} (s', a') $ we take the action that leads to the previous-k state\n",
    "\n",
    "Substituting back, we get:\n",
    "\n",
    "\n",
    "$$ q_{k+1}(s,a) = \\sum_{s', r} p(s', r \\mid s,a) \\big [ r + \\gamma   \\sum_{a'} \\pi(a' \\mid s') \\sum_{s', r} q_{k} (s', a') \\big ] $$\n",
    "\n",
    "\n",
    "\n",
    "\n",
    "\n"
   ]
  }
 ],
 "metadata": {
  "kernelspec": {
   "display_name": "Python 3 (ipykernel)",
   "language": "python",
   "name": "python3"
  },
  "language_info": {
   "codemirror_mode": {
    "name": "ipython",
    "version": 3
   },
   "file_extension": ".py",
   "mimetype": "text/x-python",
   "name": "python",
   "nbconvert_exporter": "python",
   "pygments_lexer": "ipython3",
   "version": "3.11.9"
  }
 },
 "nbformat": 4,
 "nbformat_minor": 4
}
